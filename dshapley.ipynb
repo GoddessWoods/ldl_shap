{
 "cells": [
  {
   "cell_type": "code",
   "execution_count": 1,
   "metadata": {},
   "outputs": [],
   "source": [
    "import numpy as np\n",
    "import matplotlib.pyplot as plt\n",
    "import os\n",
    "import shutil\n",
    "import _pickle as pkl\n",
    "from numpy import *\n",
    "from sklearn import metrics\n",
    "from sklearn import metrics\n"
   ]
  },
  {
   "cell_type": "markdown",
   "metadata": {},
   "source": [
    "### 挑选了LDL里面的aa_knn，较为简单，不知道会不会影响结果"
   ]
  },
  {
   "cell_type": "code",
   "execution_count": 2,
   "metadata": {},
   "outputs": [],
   "source": [
    "def aa_knn(trainFeature, trainLabel, testFeature, testLabel, k):\n",
    "    rows = testFeature.shape[0]\n",
    "    cols = testFeature.shape[1]\n",
    "\n",
    "    train_num = trainFeature.shape[0]\n",
    "    dist = np.zeros(shape=(train_num))\n",
    "    prediction = np.zeros(shape=(rows,trainLabel.shape[1]))\n",
    "\n",
    "    for i in range(rows):\n",
    "        test = testFeature[i,:]\n",
    "        for j in range(train_num):\n",
    "            train = trainFeature[j,:]\n",
    "            V = test - train\n",
    "            sqV = V**2\n",
    "            sqDis = sqV.sum(axis=0)\n",
    "            dist[j] = math.sqrt(sqDis)\n",
    "\n",
    "        indice = dist.argsort()\n",
    "        sort_dis = sorted(dist)\n",
    "        sum_label = np.zeros(shape=trainLabel.shape[1])\n",
    "        for l in range(k):\n",
    "            sum_label = sum_label + trainLabel[l,:]\n",
    "\n",
    "        prediction[i,:] = sum_label/k\n",
    "    \n",
    "    idx = prediction.argmax(axis=1)\n",
    "    prediction = (idx[:,None] == np.arange(prediction.shape[1])).astype(int)\n",
    "\n",
    "    score = metrics.accuracy_score(prediction, testLabel)\n",
    "\n",
    "    return prediction, score "
   ]
  },
  {
   "cell_type": "code",
   "execution_count": 41,
   "metadata": {},
   "outputs": [],
   "source": [
    "file_label = open(\"ldlLabelAll.txt\",'r')\n",
    "\n",
    "label = []\n",
    "\n",
    "for line in file_label:\n",
    "    one_label = list(map(lambda x : float(x), line.split()))\n",
    "    label.append(one_label)"
   ]
  },
  {
   "cell_type": "code",
   "execution_count": 44,
   "metadata": {
    "tags": []
   },
   "outputs": [
    {
     "output_type": "stream",
     "name": "stdout",
     "text": "0\n"
    }
   ],
   "source": [
    "idxs = np.random.permutation(8)\n",
    "\n",
    "x_ = trainLabel[idxs[0]]\n",
    "for a, idx in enumerate(idxs):\n",
    "    if a == 0:\n",
    "        print(0)\n",
    "    else:\n",
    "        x_ = np.vstack((x_,trainLabel[idx]))\n",
    "    "
   ]
  },
  {
   "cell_type": "code",
   "execution_count": 45,
   "metadata": {
    "tags": []
   },
   "outputs": [
    {
     "output_type": "stream",
     "name": "stdout",
     "text": "[[0. 1.]\n [1. 0.]\n [1. 0.]\n [1. 0.]\n [1. 0.]\n [1. 0.]\n [1. 0.]\n [0. 1.]]\n"
    }
   ],
   "source": [
    "print(x_)"
   ]
  },
  {
   "cell_type": "code",
   "execution_count": 69,
   "metadata": {},
   "outputs": [],
   "source": [
    "def tmc_shap(tolerance, trainFeature, trainLabel, testFeature, testLabel, k, iterations, sources=None):\n",
    "    if sources is None:\n",
    "        sources = {i: np.array([i]) for i in range(len(trainFeature))}\n",
    "    elif not isinstance(sources, dict):\n",
    "        sources = {i: np.where(sources == i)[0] for i in set(sources)}\n",
    "\n",
    "    marginals = []\n",
    "    mem_tmc = np.zeros((0,len(trainFeature)))\n",
    "\n",
    "    for i in range(iterations):\n",
    "\n",
    "        idxs = np.random.permutation(len(sources))\n",
    "        marginal_contribs = np.zeros(len(trainFeature))\n",
    "\n",
    "        #x_batch = np.zeros((0,) + tuple(trainFeature.shape[1:]))\n",
    "        #y_batch = np.zeros(0, int)\n",
    "        x_batch = trainFeature[idxs[0]]\n",
    "        y_batch = trainLabel[idxs[0]]\n",
    "\n",
    "        truncation_counter = 0\n",
    "\n",
    "        #源代码里面是随机抽取测试数据，进行100次实验获得到的平均socre，这里直接设置为零\n",
    "        new_score = 0\n",
    "\n",
    "        \n",
    "        for sh, idx in enumerate(idxs):\n",
    "            old_score = new_score\n",
    "\n",
    "            if sh == 0 :\n",
    "                a=0\n",
    "            else:\n",
    "                x_batch = np.vstack((x_batch, trainFeature[idx]))\n",
    "                y_batch = np.vstack((y_batch, trainLabel[idx]))\n",
    "\n",
    "            if x_batch.shape[0] >= 2:\n",
    "                _, new_score = aa_knn(trainFeature, trainLabel, testFeature, testLabel, k)\n",
    "\n",
    "            marginal_contribs[sources[idx]] = (new_score - old_score)/len(sources[idx])\n",
    "            mean_score = 0.18\n",
    "\n",
    "            distance_to_full_score = np.abs(new_score - mean_score)\n",
    "            if distance_to_full_score <= tolerance * mean_score:\n",
    "                truncation_counter += 1\n",
    "                if truncation_counter > 5:\n",
    "                    break\n",
    "            else:\n",
    "                truncation_counter = 0\n",
    "        \n",
    "        mem_tmc = np.concatenate([mem_tmc, np.reshape(marginal_contribs, (1,-1))])\n",
    "\n",
    "    value_tmc = np.mean(mem_tmc,0)\n",
    "\n",
    "    return value_tmc,mem_tmc\n"
   ]
  },
  {
   "cell_type": "code",
   "execution_count": null,
   "metadata": {},
   "outputs": [],
   "source": [
    " \"\"\"\n",
    "        for sh, idx in enumerate(idxs):\n",
    "            old_score = new_score\n",
    "\n",
    "            if sh == 0 :\n",
    "                a=0\n",
    "            else:\n",
    "\n",
    "\n",
    "                x_batch = np.vstack((x_batch, trainFeature[idx]))\n",
    "                y_batch = np.vstack((y_batch, trainLabel[idx]))\n",
    "\"\"\"\n"
   ]
  },
  {
   "cell_type": "code",
   "execution_count": 4,
   "metadata": {},
   "outputs": [],
   "source": [
    "file_feature = open(\"ldlFeature.txt\",'r')\n",
    "feature = []\n",
    "\n",
    "for line in file_feature:\n",
    "    one_fea = list(map(lambda x : float(x), line.split()))\n",
    "    feature.append(one_fea)\n",
    "\n",
    "\n",
    "file_label = open(\"binaryLabel.txt\",'r')\n",
    "label = []\n",
    "\n",
    "for line in file_label:\n",
    "    one_label = list(map(lambda x : float(x), line.split()))\n",
    "    label.append(one_label)"
   ]
  },
  {
   "cell_type": "code",
   "execution_count": 5,
   "metadata": {},
   "outputs": [],
   "source": [
    "trainFeature = array(feature[:70])\n",
    "trainLabel = array(label[:70])\n",
    "\n",
    "testFeature = array(feature[180:])\n",
    "testLabel = array(label[180:])"
   ]
  },
  {
   "cell_type": "code",
   "execution_count": 70,
   "metadata": {},
   "outputs": [],
   "source": [
    "shap,tmc = tmc_shap(0.3, trainFeature, trainLabel, testFeature, testLabel, 5, 20, sources=None)"
   ]
  },
  {
   "cell_type": "code",
   "execution_count": 73,
   "metadata": {
    "tags": []
   },
   "outputs": [
    {
     "output_type": "stream",
     "name": "stdout",
     "text": "20\n[0.03333333 0.         0.         0.         0.         0.03333333\n 0.01666667 0.         0.         0.         0.         0.01666667\n 0.         0.         0.01666667 0.         0.         0.\n 0.         0.         0.         0.01666667 0.         0.03333333\n 0.         0.01666667 0.         0.         0.         0.01666667\n 0.01666667 0.         0.01666667 0.01666667 0.         0.\n 0.         0.         0.01666667 0.03333333 0.         0.\n 0.         0.         0.         0.         0.         0.\n 0.         0.         0.         0.         0.         0.\n 0.         0.         0.         0.         0.         0.\n 0.         0.         0.         0.01666667 0.         0.\n 0.         0.         0.         0.01666667]\n"
    }
   ],
   "source": [
    "print(len(tmc))\n",
    "print(shap)"
   ]
  },
  {
   "cell_type": "code",
   "execution_count": 36,
   "metadata": {
    "tags": []
   },
   "outputs": [
    {
     "output_type": "stream",
     "name": "stdout",
     "text": "[[1. 0.]\n [1. 0.]]\n[[1. 0.]\n [1. 0.]\n [1. 0.]]\n"
    }
   ],
   "source": [
    "x_b = np.vstack((trainLabel[1], trainLabel[2]))\n",
    "print(x_b)\n",
    "x_c = np.vstack((x_b,trainLabel[3]))\n",
    "print(x_c)"
   ]
  },
  {
   "cell_type": "code",
   "execution_count": 16,
   "metadata": {
    "tags": []
   },
   "outputs": [
    {
     "output_type": "stream",
     "name": "stdout",
     "text": "[[1 2]\n [3 4]]\n"
    }
   ],
   "source": [
    "a = np.array([[1, 2], [3, 4]])\n",
    "x = np.zeros((0,a.shape[1]))\n",
    "\n",
    "print(a)"
   ]
  },
  {
   "cell_type": "code",
   "execution_count": null,
   "metadata": {},
   "outputs": [],
   "source": []
  },
  {
   "cell_type": "code",
   "execution_count": 7,
   "metadata": {
    "tags": []
   },
   "outputs": [],
   "source": [
    "def one_iteration(tolerance, trainFeature, trainLabel, testFeature, testLabel, k, sources=None):\n",
    "    if sources is None:\n",
    "        sources = {i: np.array([i]) for i in range(len(trainFeature))}\n",
    "    elif not isinstance(sources, dict):\n",
    "        sources = {i: np.where(sources == i)[0] for i in set(sources)}\n",
    "\n",
    "    idxs = np.random.permutation(len(sources))\n",
    "    marginal_contribs = np.zeros(len(trainFeature))\n",
    "\n",
    "    x_batch = np.zeros((0,trainFeature.shape[1]))\n",
    "    y_batch = np.zeros(0,float)\n",
    "\n",
    "    truncation_counter = 0\n",
    "\n",
    "    #源代码里面是随机抽取测试数据，进行100次实验获得到的平均socre，这里直接设置为零\n",
    "    new_score = 0\n",
    "\n",
    "    for _, idx in enumerate(idx):\n",
    "        old_score = new_score\n",
    "\n",
    "        x_batch = np.concatenate(x_batch, trainLabel[sources[idx]])\n",
    "        y_batch = np.concatenate(y_batch, trainFeature[sources[idx]])\n",
    "\n",
    "        if len(set(y_batch)) >= 2:\n",
    "            new_score = aa_knn()\n",
    "\n",
    "        marginal_contribs[sources[idx]] = (new_score - old_score)/len(sources[idx])\n",
    "        mean_score = 0.18\n",
    "\n",
    "        distance_to_full_score = np.abs(new_score - mean_score)\n",
    "        if distance_to_full_score <= tolerance * mean_score:\n",
    "            truncation_counter += 1\n",
    "            if truncation_counter > 5:\n",
    "                break\n",
    "        else:\n",
    "            truncation_counter = 0\n",
    "    return marginal_contribs\n"
   ]
  },
  {
   "cell_type": "code",
   "execution_count": null,
   "metadata": {},
   "outputs": [],
   "source": []
  }
 ],
 "metadata": {
  "language_info": {
   "codemirror_mode": {
    "name": "ipython",
    "version": 3
   },
   "file_extension": ".py",
   "mimetype": "text/x-python",
   "name": "python",
   "nbconvert_exporter": "python",
   "pygments_lexer": "ipython3",
   "version": "3.7.6-final"
  },
  "orig_nbformat": 2,
  "kernelspec": {
   "name": "python37464bitbasecondaa552d2f6e5da4ad6b3305c7b8c5f25f7",
   "display_name": "Python 3.7.4 64-bit ('base': conda)"
  }
 },
 "nbformat": 4,
 "nbformat_minor": 2
}