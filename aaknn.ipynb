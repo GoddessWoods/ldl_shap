{
 "cells": [
  {
   "cell_type": "code",
   "execution_count": 6,
   "metadata": {},
   "outputs": [],
   "source": [
    "from numpy import *\n",
    "import operator\n",
    "import numpy as np"
   ]
  },
  {
   "cell_type": "markdown",
   "metadata": {},
   "source": [
    "输入的数据要求是numpy类型的\n",
    "到时候先读取数据再转换一下"
   ]
  },
  {
   "cell_type": "code",
   "execution_count": null,
   "metadata": {},
   "outputs": [],
   "source": [
    "def aknn(testdata,dataSet,labels,k):\n",
    "    dataSize = dataSet.shape[0]\n",
    "    diffMat = tile(testdata,(dataSize,1))-dataSet\n",
    "    sqDiffMat = diffMat**2\n",
    "    sqDistance = sqDiffMat.sum(axis=1)\n",
    "    distance_list = [math.sqrt(i) for i in sqDistance]\n",
    "    "
   ]
  },
  {
   "cell_type": "code",
   "execution_count": 51,
   "metadata": {},
   "outputs": [],
   "source": [
    "def aa_knn(trainFeature,trainLabel,testFeature,testLabel,k):\n",
    "    rows = testFeature.shape[0]\n",
    "    cols = testFeature.shape[1]\n",
    "\n",
    "    train_num = trainFeature.shape[0]\n",
    "    dist = np.zeros(shape=(train_num))\n",
    "    prediction = np.zeros(shape=(rows,trainLabel.shape[1]))\n",
    "\n",
    "    for i in range(rows):\n",
    "        test = testFeature[i,:]\n",
    "        for j in range(train_num):\n",
    "            train = trainFeature[j,:]\n",
    "            V = test - train\n",
    "            sqV = V**2\n",
    "            sqDis = sqV.sum(axis=0)\n",
    "            dist[j] = math.sqrt(sqDis)\n",
    "\n",
    "        indice = dist.argsort()\n",
    "        sort_dis = sorted(dist)\n",
    "        sum_label = np.zeros(shape=trainLabel.shape[1])\n",
    "        for l in range(k):\n",
    "            sum_label = sum_label + trainLabel[indice[l],:]\n",
    "\n",
    "        prediction[i,:] = sum_label/k\n",
    "    \n",
    "    idx = prediction.argmax(axis=1)\n",
    "    prediction = (idx[:,None] == np.arange(prediction.shape[1])).astype(int)\n",
    "    \n",
    "    return prediction"
   ]
  },
  {
   "cell_type": "code",
   "execution_count": 4,
   "metadata": {},
   "outputs": [],
   "source": [
    "file_feature = open(\"ldlFeature.txt\",'r')\n",
    "\n",
    "feature = []\n",
    "\n",
    "for line in file_feature:\n",
    "    one_fea = list(map(lambda x : float(x), line.split()))\n",
    "    feature.append(one_fea)\n"
   ]
  },
  {
   "cell_type": "code",
   "execution_count": 1,
   "metadata": {
    "tags": []
   },
   "outputs": [],
   "source": [
    "file_label = open(\"ldlLabelAll.txt\",'r')\n",
    "\n",
    "label = []\n",
    "\n",
    "for line in file_label:\n",
    "    one_label = list(map(lambda x : float(x), line.split()))\n",
    "    label.append(one_label)"
   ]
  },
  {
   "cell_type": "code",
   "execution_count": 2,
   "metadata": {
    "tags": []
   },
   "outputs": [
    {
     "output_type": "stream",
     "name": "stdout",
     "text": "[0.234285714285714, 0.197551020408163, 0.128979591836735, 0.150204081632653, 0.144489795918367, 0.144489795918367]\n"
    }
   ],
   "source": [
    "print(label[1])"
   ]
  },
  {
   "cell_type": "code",
   "execution_count": 7,
   "metadata": {
    "tags": []
   },
   "outputs": [],
   "source": [
    "trainFeature = array(feature[:70])\n",
    "trainLabel = array(label[:70])\n",
    "\n",
    "testFeature = array(feature[190:])"
   ]
  },
  {
   "cell_type": "code",
   "execution_count": 8,
   "metadata": {
    "tags": []
   },
   "outputs": [
    {
     "output_type": "stream",
     "name": "stdout",
     "text": "[0.04202197 0.00422948 0.00136435 0.00184187 0.0004093  0.00102326\n 0.00129613 0.00109148 0.00122791 0.0011597  0.00218296 0.00648066\n 0.00136435 0.00136435 0.00211474 0.00382018 0.00136435 0.00150078\n 0.00143257 0.00143257 0.00218296 0.00409305 0.0004093  0.001569\n 0.00129613 0.00143257 0.00150078 0.00252405 0.00511631 0.00143257\n 0.00122791 0.00163722 0.00197831 0.001569   0.00252405 0.00422948\n 0.00866362 0.00484344 0.00163722 0.00122791 0.00211474 0.00184187\n 0.00197831 0.00382018 0.00770857 0.00675353 0.00075039 0.00184187\n 0.0011597  0.00102326 0.00191009 0.00306979 0.00409305 0.00450235\n 0.00491166 0.00320622 0.00088683 0.00095504 0.00150078 0.00122791\n 0.001569   0.00245583 0.00532096 0.00811788 0.00395661 0.00177365\n 0.0011597  0.00136435 0.00054574 0.00095504 0.00170544 0.00170544\n 0.00211474 0.00306979 0.00416127 0.00334266 0.00211474 0.00143257\n 0.00129613 0.00532096 0.00204652 0.00163722 0.00109148 0.00266048\n 0.00245583 0.0042977  0.00600314 0.00361553 0.00279692 0.00231939\n 0.001569   0.00184187 0.001569   0.00218296 0.00191009 0.00102326\n 0.00122791 0.00252405 0.00361553 0.00266048 0.00347909 0.00245583\n 0.00095504 0.00143257 0.00150078 0.00163722 0.00061396 0.00109148\n 0.00122791 0.00177365 0.00197831 0.00252405 0.00463879 0.00422948\n 0.00334266 0.00225118 0.00231939 0.00109148 0.00170544 0.00150078\n 0.00231939 0.00191009 0.00191009 0.00184187 0.00231939 0.00245583\n 0.00409305 0.00654888 0.00559383 0.00600314 0.00436592 0.001569\n 0.00068217 0.0011597  0.0011597  0.00081861 0.00047752 0.00122791\n 0.00150078 0.00136435 0.00327444 0.00641244 0.00886827 0.0054574\n 0.00306979 0.00204652 0.00109148 0.00075039 0.00109148 0.00177365\n 0.00061396 0.00129613 0.00177365 0.0027287  0.00334266 0.00491166\n 0.00573027 0.00347909 0.00245583 0.00163722 0.00095504 0.00143257\n 0.003138   0.00143257 0.00347909 0.00238761 0.00450235 0.00518453\n 0.00422948 0.00450235 0.003138   0.00231939 0.00170544 0.00081861\n 0.00122791 0.00163722 0.00204652 0.00443414 0.00525275 0.00457057\n 0.00286513 0.00136435 0.00150078 0.00136435 0.00109148 0.00095504\n 0.00252405 0.00402483 0.00559383 0.00347909 0.00286513 0.00211474\n 0.00197831 0.001569   0.00136435 0.00163722 0.00491166 0.00798144\n 0.00422948 0.00245583 0.00204652 0.00177365 0.00177365 0.00218296\n 0.0038884  0.0081861  0.00682175 0.00327444 0.00204652 0.00191009\n 0.00170544 0.00122791 0.00170544 0.00525275 0.00327444 0.00259226\n 0.00177365 0.00143257 0.001569   0.00061396 0.00218296 0.00225118\n 0.0011597  0.00136435 0.00170544 0.00150078 0.00170544 0.00102326\n 0.00150078 0.00136435 0.00334266 0.00163722 0.00163722 0.00088683\n 0.00177365 0.00122791 0.00218296 0.00068217 0.00170544 0.001569\n 0.00382018 0.04659254 0.30738795]\n"
    }
   ],
   "source": [
    "print(trainFeature[1])"
   ]
  },
  {
   "cell_type": "code",
   "execution_count": 59,
   "metadata": {},
   "outputs": [],
   "source": [
    "b = aa_knn(trainFeature,trainLabel,testFeature,6)"
   ]
  },
  {
   "cell_type": "code",
   "execution_count": 27,
   "metadata": {
    "tags": []
   },
   "outputs": [],
   "source": [
    "idx = b.argmax(axis=1)\n",
    "out = (idx[:,None] == np.arange(b.shape[1])).astype(float)\n",
    "\n"
   ]
  },
  {
   "cell_type": "code",
   "execution_count": 48,
   "metadata": {
    "tags": []
   },
   "outputs": [],
   "source": [
    "file_ = open(\"ldlLabelAll.txt\",'r')\n",
    "\n",
    "binary_label = []\n",
    "\n",
    "for line in file_:\n",
    "    a = line.split()[:2]\n",
    "    binary_label.append(a)\n",
    "\n",
    "binary_label = array(binary_label)\n",
    "\n",
    "idx = binary_label.argmax(axis=1)\n",
    "binary_label = (idx[:,None] == np.arange(binary_label.shape[1])).astype(int)\n",
    "    "
   ]
  },
  {
   "cell_type": "code",
   "execution_count": 50,
   "metadata": {},
   "outputs": [],
   "source": [
    "file_w = open(\"binaryLabel.txt\",'w')\n",
    "\n",
    "for item in binary_label:\n",
    "    \n",
    "    file_w.write(str(item[0])+\" \"+ str(item[1])+\"\\n\")\n",
    "\n",
    "file_w.close()"
   ]
  },
  {
   "cell_type": "code",
   "execution_count": 56,
   "metadata": {},
   "outputs": [],
   "source": [
    "test = array(label[190:])"
   ]
  },
  {
   "cell_type": "code",
   "execution_count": 57,
   "metadata": {},
   "outputs": [],
   "source": [
    "idx = test.argmax(axis=1)\n",
    "ground_truth = (idx[:,None] == np.arange(test.shape[1])).astype(int)"
   ]
  },
  {
   "cell_type": "code",
   "execution_count": 62,
   "metadata": {
    "tags": []
   },
   "outputs": [
    {
     "output_type": "stream",
     "name": "stdout",
     "text": "0.17647058823529413\n"
    }
   ],
   "source": [
    "from sklearn import metrics\n",
    "\n",
    "score = metrics.accuracy_score(b,ground_truth)\n",
    "\n",
    "print(score)"
   ]
  },
  {
   "cell_type": "code",
   "execution_count": null,
   "metadata": {},
   "outputs": [],
   "source": []
  }
 ],
 "metadata": {
  "language_info": {
   "codemirror_mode": {
    "name": "ipython",
    "version": 3
   },
   "file_extension": ".py",
   "mimetype": "text/x-python",
   "name": "python",
   "nbconvert_exporter": "python",
   "pygments_lexer": "ipython3",
   "version": "3.7.6-final"
  },
  "orig_nbformat": 2,
  "kernelspec": {
   "name": "python37464bitbasecondaa552d2f6e5da4ad6b3305c7b8c5f25f7",
   "display_name": "Python 3.7.4 64-bit ('base': conda)"
  }
 },
 "nbformat": 4,
 "nbformat_minor": 2
}