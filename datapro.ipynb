{
 "cells": [
  {
   "cell_type": "code",
   "execution_count": 122,
   "metadata": {
    "tags": []
   },
   "outputs": [],
   "source": [
    "data = []\n",
    "\n",
    "file = open(\"label.txt\")\n",
    "for line in file:\n",
    "    data.append(line.split())\n",
    "    "
   ]
  },
  {
   "cell_type": "code",
   "execution_count": 123,
   "metadata": {},
   "outputs": [],
   "source": [
    "label_one = []"
   ]
  },
  {
   "cell_type": "code",
   "execution_count": 124,
   "metadata": {
    "tags": []
   },
   "outputs": [],
   "source": [
    "for item in data:\n",
    "    sum = float(item[1]) + float(item[2]) + float(item[3]) + float(item[4])+float(item[5])+float(item[6])\n",
    "    label_one.append(round(float(item[1])/sum,5))"
   ]
  },
  {
   "cell_type": "code",
   "execution_count": 125,
   "metadata": {},
   "outputs": [],
   "source": [
    "file_ldl = open(\"ldllabel.txt\")\n",
    "\n",
    "ldl = []\n",
    "\n",
    "for line in file_ldl:\n",
    "    ldl.append(round(float(line),5))"
   ]
  },
  {
   "cell_type": "code",
   "execution_count": 126,
   "metadata": {
    "tags": []
   },
   "outputs": [],
   "source": [
    "for i in range(len(label_one)):\n",
    "    if ldl[i] != label_one[i]:\n",
    "        print(i)\n",
    "        print(ldl[i],label_one[i])"
   ]
  },
  {
   "cell_type": "code",
   "execution_count": 128,
   "metadata": {},
   "outputs": [],
   "source": [
    "ldl_label_  = open(\"ldlLabelAll.txt\")\n",
    "label_ldl = []\n",
    "for line in ldl_label_:\n",
    "    a = line.split()\n",
    "    label_ldl.append(round(float(a[0]),5))"
   ]
  },
  {
   "cell_type": "code",
   "execution_count": 129,
   "metadata": {},
   "outputs": [],
   "source": [
    "for i in range(len(ldl)):\n",
    "    if ldl[i] != label_ldl[i]:\n",
    "        print(\"1\")"
   ]
  },
  {
   "cell_type": "code",
   "execution_count": 21,
   "metadata": {},
   "outputs": [],
   "source": [
    "label = []\n",
    "for i in label_one:\n",
    "    label.append(round(i,5))"
   ]
  },
  {
   "cell_type": "markdown",
   "metadata": {},
   "source": [
    "### 这个是ldl里面没有的，但是数据集里有，删了数据集里的\n",
    "7\n",
    "11\n",
    "20\n",
    "75\n",
    "107\n",
    "182"
   ]
  },
  {
   "cell_type": "markdown",
   "metadata": {},
   "source": [
    "0.42739 0.46948   6\n",
    "0.08015 0.07881   9\n",
    "0.10313 0.08046   17\n",
    "0.42131 0.37145   71\n",
    "0.19969 0.18139   102\n",
    "0.40936 0.12454   177\n",
    "0.12454 0.10571   178\n",
    "0.10571 0.10813   179\n",
    "0.10813 0.09301   180\n",
    "\n"
   ]
  },
  {
   "cell_type": "markdown",
   "metadata": {},
   "source": [
    "把他们删了，然后整合一块去\n",
    "有点点小麻烦哦\n",
    "但是不可以烦躁\n",
    "contiune"
   ]
  },
  {
   "cell_type": "code",
   "execution_count": 50,
   "metadata": {},
   "outputs": [],
   "source": [
    "ldl_feature = open(\"ldlFeature.txt\",'r')\n",
    "\n",
    "feature = ldl_feature.readlines()"
   ]
  },
  {
   "cell_type": "code",
   "execution_count": null,
   "metadata": {},
   "outputs": [],
   "source": []
  }
 ],
 "metadata": {
  "language_info": {
   "codemirror_mode": {
    "name": "ipython",
    "version": 3
   },
   "file_extension": ".py",
   "mimetype": "text/x-python",
   "name": "python",
   "nbconvert_exporter": "python",
   "pygments_lexer": "ipython3",
   "version": "3.7.6-final"
  },
  "orig_nbformat": 2,
  "kernelspec": {
   "name": "python37464bitbasecondaa552d2f6e5da4ad6b3305c7b8c5f25f7",
   "display_name": "Python 3.7.4 64-bit ('base': conda)"
  }
 },
 "nbformat": 4,
 "nbformat_minor": 2
}